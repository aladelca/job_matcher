{
 "cells": [
  {
   "cell_type": "code",
   "execution_count": null,
   "metadata": {},
   "outputs": [],
   "source": [
    "import os\n",
    "os.chdir(\"..\")"
   ]
  },
  {
   "cell_type": "code",
   "execution_count": null,
   "metadata": {},
   "outputs": [],
   "source": [
    "os.environ['DJANGO_SETTINGS_MODULE'] = 'my_project.settings'\n",
    "import django\n",
    "django.setup()"
   ]
  },
  {
   "cell_type": "code",
   "execution_count": null,
   "metadata": {},
   "outputs": [],
   "source": [
    "from job_matcher.models import Document \n",
    "from asgiref.sync import sync_to_async\n",
    "import pandas as pd\n",
    "@sync_to_async\n",
    "def fetch_documents():\n",
    "    # Converting the queryset to a list forces the evaluation of the query\n",
    "    return pd.DataFrame(list(Document.objects.all().values()))\n",
    "\n",
    "# Now, inside an async cell or function, use await to get the results\n",
    "documents = await fetch_documents()\n",
    "documents[\"id\"] = documents[\"id\"].apply(str)\n",
    "def add_url(data):\n",
    "    return \"<a href='\" + data + \"'>\" + data + \"</a>\"\n",
    "\n",
    "documents['id'] = documents['id'].apply(add_url)\n",
    "documents.head()"
   ]
  },
  {
   "cell_type": "code",
   "execution_count": null,
   "metadata": {},
   "outputs": [],
   "source": [
    "### Smart part\n",
    "\n",
    "import pickle\n",
    "import nltk\n",
    "\n",
    "jobs = pickle.load(open(\"job_matcher/static/data/puestos.pickle\", \"rb\"))\n",
    "jobs.head()"
   ]
  },
  {
   "cell_type": "code",
   "execution_count": null,
   "metadata": {},
   "outputs": [],
   "source": [
    "import re\n",
    "from unidecode import unidecode\n",
    "\n",
    "texto = \"atención, ¿cómo estás?\"\n",
    "def clean_text(texto):\n",
    "    text_ascii = unidecode(texto)\n",
    "    result = re.sub(r'[^A-Za-z0-9 ]', '', text_ascii)\n",
    "    result = result.lower()\n",
    "    return result\n",
    "\n",
    "jobs[\"PUESTO\"] = jobs[\"PUESTO\"].apply(clean_text)\n",
    "\n"
   ]
  },
  {
   "cell_type": "code",
   "execution_count": null,
   "metadata": {},
   "outputs": [],
   "source": [
    "### Tokenize\n",
    "\n",
    "from nltk.tokenize import word_tokenize\n",
    "jobs[\"tokens\"] = jobs[\"PUESTO\"].apply(word_tokenize)\n",
    "jobs.head()"
   ]
  },
  {
   "cell_type": "code",
   "execution_count": null,
   "metadata": {},
   "outputs": [],
   "source": [
    "### Stopwords\n",
    "\n",
    "from nltk.corpus import stopwords\n",
    "stop_words = set(stopwords.words('spanish'))\n",
    "jobs[\"tokens\"] = jobs[\"tokens\"].apply(lambda x: [word for word in x if word not in stop_words])\n",
    "jobs.head()"
   ]
  },
  {
   "cell_type": "code",
   "execution_count": null,
   "metadata": {},
   "outputs": [],
   "source": [
    "jobs[\"tokens\"].loc[2]"
   ]
  },
  {
   "cell_type": "code",
   "execution_count": null,
   "metadata": {},
   "outputs": [],
   "source": [
    "### Lemmatization\n",
    "\n",
    "import spacy\n",
    "\n",
    "def lemmatize(text):\n",
    "    nlp = spacy.load(\"es_core_news_sm\")\n",
    "    return nlp(text)[0].lemma_\n",
    "\n",
    "jobs[\"lemmas\"] = jobs[\"tokens\"].apply(lambda x : [lemmatize(i) for i in x])"
   ]
  },
  {
   "cell_type": "code",
   "execution_count": null,
   "metadata": {},
   "outputs": [],
   "source": [
    "sample = jobs.sample(20)\n",
    "sample[\"lemmas\"] = sample[\"tokens\"].apply(lambda x : [lemmatize(i) for i in x])"
   ]
  },
  {
   "cell_type": "code",
   "execution_count": null,
   "metadata": {},
   "outputs": [],
   "source": [
    "sample[\"final_text\"] = sample[\"lemmas\"].apply(lambda x : \" \".join(x))\n"
   ]
  },
  {
   "cell_type": "code",
   "execution_count": null,
   "metadata": {},
   "outputs": [],
   "source": [
    "### Vectorizer\n",
    "\n",
    "from sklearn.feature_extraction.text import TfidfVectorizer\n",
    "\n",
    "vect = TfidfVectorizer()\n",
    "vect.fit_transform(sample[\"final_text\"])"
   ]
  }
 ],
 "metadata": {
  "kernelspec": {
   "display_name": ".venv",
   "language": "python",
   "name": "python3"
  },
  "language_info": {
   "codemirror_mode": {
    "name": "ipython",
    "version": 3
   },
   "file_extension": ".py",
   "mimetype": "text/x-python",
   "name": "python",
   "nbconvert_exporter": "python",
   "pygments_lexer": "ipython3",
   "version": "3.12.7"
  }
 },
 "nbformat": 4,
 "nbformat_minor": 2
}
